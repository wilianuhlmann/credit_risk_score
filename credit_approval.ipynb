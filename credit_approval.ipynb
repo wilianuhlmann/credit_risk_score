{
 "cells": [
  {
   "cell_type": "markdown",
   "id": "cb5670c7-83d9-44b8-95cc-4e637f972e85",
   "metadata": {},
   "source": [
    "   ## **Case - Modelo preditivo para aprovação de crédito**\n",
    "Modelos de score de crédito calculam a probabilidade de inadimplência e são uma das principais ferramentas utilizadas por diversas empresas para aprovar ou negar um crédito.\n",
    "O objetivo deste desafio é criar um modelo preditivo calculando a probabilidade de inadimplência de cada novo pedido de crédito.\n",
    "Dados:\n",
    "\n",
    "### Cada linha representa um cliente e as colunas representam os dados (informações) desses clientes.\n",
    "### A variável resposta é a coluna inadimplente, que indica se o tomador veio a se tornar inadimplente(1) ou não(0).\n",
    "### As variáveis da base de dados são descritas abaixo:\n",
    "\n",
    "\n",
    "\n",
    "    ● idade: A idade do cliente..\n",
    "    \n",
    "    ● numero_de_dependentes: O número de pessoas dependentes do cliente.\n",
    "    \n",
    "    ● salario_mensal: Salário mensal do cliente.\n",
    "    \n",
    "    ● numero_emprestimos_imobiliarios: Quantidade de empréstimos imobiliários que o cliente possui em aberto.\n",
    "\n",
    "    ● numero_vezes_passou_90_dias: Número de vezes que o tomador passou mais de 90 dias em atraso.\n",
    "\n",
    "    ● util_linhas_inseguras: Quanto que o cliente está usando, relativamente ao limite dele, de linhas de crédito que não são seguradas por qualquer bem do tomador e.g: imoveis, carros etc.\n",
    "\n",
    "    ● vezes_passou_de_30_59_dias: Número de vezes que o cliente atrasou, entre 30 e 59 dias, o pagamento de um empréstimo.\n",
    "\n",
    "    ● razao_debito: Razão entre as dívidas e o patrimônio do tomador. razão débito = Dividas/Patrimônio\n",
    "\n",
    "    ● numero_linhas_crdto_aberto: Número de empréstimos em aberto pelo cliente.\n",
    "    \n",
    "    ● numero_de_vezes_que_passou_60_89_dias: Número de vezes que o cliente atrasou, entre 60 e 89 dias, o pagamento de um empréstimo.\n",
    "\n",
    "\n",
    "#### Obs:​ Estes dados foram retirados de terceiros, portanto é possível que existam incoerências, o que é perfeitamente comum em dados reais.\n",
    "### **Objetivo:**\n",
    "    Construir qualquer modelo preditivo utilizando o arquivo treino.csv.\n",
    "    \n",
    "    Utilize este modelo para gerar as previsões na base teste.csv, inserindo uma nova coluna na tabela de dados do arquivo teste.csv que contenha as previsões e nomeie esta coluna com o nome \"inadimplente\"."
   ]
  },
  {
   "cell_type": "markdown",
   "id": "8c60e3ed-0541-4705-8904-4c023b36c0c3",
   "metadata": {
    "tags": []
   },
   "source": [
    "# **Planejamento da solução**"
   ]
  },
  {
   "cell_type": "markdown",
   "id": "1a2fcef1-be9e-40d6-b0dc-f7b200e056c4",
   "metadata": {},
   "source": [
    "## Input\n"
   ]
  },
  {
   "cell_type": "markdown",
   "id": "86afeebb-9ee1-4220-8595-580f00947d24",
   "metadata": {},
   "source": [
    "### O problema de negocio"
   ]
  },
  {
   "cell_type": "markdown",
   "id": "1b2caf56-3784-4615-ae32-4e5cb2504426",
   "metadata": {},
   "source": [
    "1. Selecionar os melhores clientes com base no historico e comportamento de credito dos clientes, classificar os novos como sendo possivel liberação de credito ou não. \n"
   ]
  },
  {
   "cell_type": "markdown",
   "id": "c80d8ff9-4f21-45de-a2eb-5c48eef74b6f",
   "metadata": {},
   "source": [
    "### Output"
   ]
  },
  {
   "cell_type": "markdown",
   "id": "13d24921-f1fb-45cc-8b22-46cadb8dbb83",
   "metadata": {},
   "source": [
    "1. Classificação de novos clientes para terem solicitação de credito aprovada ou não"
   ]
  },
  {
   "cell_type": "markdown",
   "id": "9e0c8b2d-0148-4f95-b507-2b11a8d32958",
   "metadata": {},
   "source": [
    "## 0.0. **Imports**"
   ]
  },
  {
   "cell_type": "code",
   "execution_count": 313,
   "id": "b5c42470-2b89-44c6-891f-3e55a25a6482",
   "metadata": {},
   "outputs": [],
   "source": [
    "import math\n",
    "import numpy  as np\n",
    "import pandas as pd\n",
    "import random\n",
    "import pickle\n",
    "import warnings\n",
    "import inflection\n",
    "import seaborn as sns\n",
    "import xgboost as xgb\n",
    "\n",
    "from scipy                 import stats  as ss\n",
    "from boruta                import BorutaPy\n",
    "from matplotlib            import pyplot as plt\n",
    "from IPython.display       import Image\n",
    "from IPython.core.display  import HTML\n",
    "\n",
    "\n",
    "from sklearn.metrics       import mean_absolute_error, mean_squared_error\n",
    "from sklearn.ensemble      import RandomForestRegressor\n",
    "from sklearn.linear_model  import LinearRegression, Lasso\n",
    "from sklearn.preprocessing import RobustScaler, MinMaxScaler, LabelEncoder"
   ]
  },
  {
   "cell_type": "markdown",
   "id": "2527ad1f-e732-4179-80fb-7bd7ef91ccb1",
   "metadata": {},
   "source": [
    "### 0.1. Helper Function"
   ]
  },
  {
   "cell_type": "raw",
   "id": "cb7773b5-aa3e-4aea-aa92-3045be641486",
   "metadata": {},
   "source": [
    "def cross_validation( x_training, kfold, model_name, model, verbose=False ):\n",
    "    mae_list = []\n",
    "    mape_list = []\n",
    "    rmse_list = []\n",
    "    for k in reversed( range( 1, kfold+1 ) ):\n",
    "        if verbose:\n",
    "            print( '\\nKFold Number: {}'.format( k ) )\n",
    "        # start and end date for validation \n",
    "        validation_start_date = x_training['date'].max() - datetime.timedelta( days=k*6*7)\n",
    "        validation_end_date = x_training['date'].max() - datetime.timedelta( days=(k-1)*6*7)\n",
    "\n",
    "        # filtering dataset\n",
    "        training = x_training[x_training['date'] < validation_start_date]\n",
    "        validation = x_training[(x_training['date'] >= validation_start_date) & (x_training['date'] <= validation_end_date)]\n",
    "\n",
    "        # training and validation dataset\n",
    "        # training\n",
    "        xtraining = training.drop( ['date', 'sales'], axis=1 ) \n",
    "        ytraining = training['sales']\n",
    "\n",
    "        # validation\n",
    "        xvalidation = validation.drop( ['date', 'sales'], axis=1 )\n",
    "        yvalidation = validation['sales']\n",
    "\n",
    "        # model\n",
    "        m = model.fit( xtraining, ytraining )\n",
    "\n",
    "        # prediction\n",
    "        yhat = m.predict( xvalidation )\n",
    "\n",
    "        # performance\n",
    "        m_result = ml_error( model_name, np.expm1( yvalidation ), np.expm1( yhat ) )\n",
    "\n",
    "        # store performance of each kfold iteration\n",
    "        mae_list.append(  m_result['MAE'] )\n",
    "        mape_list.append( m_result['MAPE'] )\n",
    "        rmse_list.append( m_result['RMSE'] )\n",
    "\n",
    "    return pd.DataFrame( {'Model Name': model_name,\n",
    "                          'MAE CV': np.round( np.mean( mae_list ), 2 ).astype( str ) + ' +/- ' + np.round( np.std( mae_list ), 2 ).astype( str ),\n",
    "                          'MAPE CV': np.round( np.mean( mape_list ), 2 ).astype( str ) + ' +/- ' + np.round( np.std( mape_list ), 2 ).astype( str ),\n",
    "                          'RMSE CV': np.round( np.mean( rmse_list ), 2 ).astype( str ) + ' +/- ' + np.round( np.std( rmse_list ), 2 ).astype( str ) }, index=[0] )\n",
    "\n",
    "\n",
    "def mean_percentage_error( y, yhat ):\n",
    "    return np.mean( ( y - yhat ) / y )\n",
    "     \n",
    "    \n",
    "def mean_absolute_percentage_error( y, yhat ):\n",
    "    return np.mean( np.abs( ( y - yhat ) / y ) )\n",
    "\n",
    "    \n",
    "def ml_error( model_name, y, yhat ):\n",
    "    mae = mean_absolute_error( y, yhat )\n",
    "    mape = mean_absolute_percentage_error( y, yhat )\n",
    "    rmse = np.sqrt( mean_squared_error( y, yhat ) )\n",
    "    \n",
    "    return pd.DataFrame( { 'Model Name': model_name, \n",
    "                           'MAE': mae, \n",
    "                           'MAPE': mape,\n",
    "                           'RMSE': rmse }, index=[0] )\n",
    "\n",
    "def cramer_v( x, y ):\n",
    "    cm = pd.crosstab( x, y ).as_matrix()\n",
    "    n = cm.sum()\n",
    "    r, k = cm.shape\n",
    "    \n",
    "    chi2 = ss.chi2_contingency( cm )[0]\n",
    "    chi2corr = max( 0, chi2 - (k-1)*(r-1)/(n-1) )\n",
    "    \n",
    "    kcorr = k - (k-1)**2/(n-1)\n",
    "    rcorr = r - (r-1)**2/(n-1)\n",
    "    \n",
    "    return np.sqrt( (chi2corr/n) / ( min( kcorr-1, rcorr-1 ) ) )"
   ]
  },
  {
   "cell_type": "markdown",
   "id": "074a1611-58c1-4e53-a519-7b2d8289932c",
   "metadata": {},
   "source": [
    "### **0.2. Load dataset**"
   ]
  },
  {
   "cell_type": "code",
   "execution_count": 387,
   "id": "a3e7ecfe-f1a7-414e-beac-274a722a6099",
   "metadata": {},
   "outputs": [],
   "source": [
    "df_raw_teste = pd.read_csv(\"data/teste.csv\")\n",
    "df_raw_treino = pd.read_csv(\"data/treino.csv\")"
   ]
  },
  {
   "cell_type": "code",
   "execution_count": 388,
   "id": "a8a9b743-4f40-4bf9-8eaf-f98876359d06",
   "metadata": {},
   "outputs": [
    {
     "data": {
      "text/html": [
       "<div>\n",
       "<style scoped>\n",
       "    .dataframe tbody tr th:only-of-type {\n",
       "        vertical-align: middle;\n",
       "    }\n",
       "\n",
       "    .dataframe tbody tr th {\n",
       "        vertical-align: top;\n",
       "    }\n",
       "\n",
       "    .dataframe thead th {\n",
       "        text-align: right;\n",
       "    }\n",
       "</style>\n",
       "<table border=\"1\" class=\"dataframe\">\n",
       "  <thead>\n",
       "    <tr style=\"text-align: right;\">\n",
       "      <th></th>\n",
       "      <th>util_linhas_inseguras</th>\n",
       "      <th>idade</th>\n",
       "      <th>vezes_passou_de_30_59_dias</th>\n",
       "      <th>razao_debito</th>\n",
       "      <th>salario_mensal</th>\n",
       "      <th>numero_linhas_crdto_aberto</th>\n",
       "      <th>numero_vezes_passou_90_dias</th>\n",
       "      <th>numero_emprestimos_imobiliarios</th>\n",
       "      <th>numero_de_vezes_que_passou_60_89_dias</th>\n",
       "      <th>numero_de_dependentes</th>\n",
       "    </tr>\n",
       "  </thead>\n",
       "  <tbody>\n",
       "    <tr>\n",
       "      <th>0</th>\n",
       "      <td>0.025849</td>\n",
       "      <td>62</td>\n",
       "      <td>0</td>\n",
       "      <td>0.081775</td>\n",
       "      <td>8180.0</td>\n",
       "      <td>3</td>\n",
       "      <td>0</td>\n",
       "      <td>2</td>\n",
       "      <td>0</td>\n",
       "      <td>0.0</td>\n",
       "    </tr>\n",
       "    <tr>\n",
       "      <th>1</th>\n",
       "      <td>0.667083</td>\n",
       "      <td>55</td>\n",
       "      <td>0</td>\n",
       "      <td>0.153112</td>\n",
       "      <td>2200.0</td>\n",
       "      <td>3</td>\n",
       "      <td>0</td>\n",
       "      <td>0</td>\n",
       "      <td>0</td>\n",
       "      <td>0.0</td>\n",
       "    </tr>\n",
       "    <tr>\n",
       "      <th>2</th>\n",
       "      <td>0.007093</td>\n",
       "      <td>44</td>\n",
       "      <td>0</td>\n",
       "      <td>0.148800</td>\n",
       "      <td>7499.0</td>\n",
       "      <td>20</td>\n",
       "      <td>0</td>\n",
       "      <td>1</td>\n",
       "      <td>0</td>\n",
       "      <td>0.0</td>\n",
       "    </tr>\n",
       "    <tr>\n",
       "      <th>3</th>\n",
       "      <td>0.091213</td>\n",
       "      <td>54</td>\n",
       "      <td>0</td>\n",
       "      <td>0.351635</td>\n",
       "      <td>5900.0</td>\n",
       "      <td>15</td>\n",
       "      <td>0</td>\n",
       "      <td>1</td>\n",
       "      <td>1</td>\n",
       "      <td>0.0</td>\n",
       "    </tr>\n",
       "    <tr>\n",
       "      <th>4</th>\n",
       "      <td>0.112680</td>\n",
       "      <td>54</td>\n",
       "      <td>0</td>\n",
       "      <td>0.065959</td>\n",
       "      <td>2167.0</td>\n",
       "      <td>3</td>\n",
       "      <td>0</td>\n",
       "      <td>0</td>\n",
       "      <td>0</td>\n",
       "      <td>0.0</td>\n",
       "    </tr>\n",
       "  </tbody>\n",
       "</table>\n",
       "</div>"
      ],
      "text/plain": [
       "   util_linhas_inseguras  idade  vezes_passou_de_30_59_dias  razao_debito  \\\n",
       "0               0.025849     62                           0      0.081775   \n",
       "1               0.667083     55                           0      0.153112   \n",
       "2               0.007093     44                           0      0.148800   \n",
       "3               0.091213     54                           0      0.351635   \n",
       "4               0.112680     54                           0      0.065959   \n",
       "\n",
       "   salario_mensal  numero_linhas_crdto_aberto  numero_vezes_passou_90_dias  \\\n",
       "0          8180.0                           3                            0   \n",
       "1          2200.0                           3                            0   \n",
       "2          7499.0                          20                            0   \n",
       "3          5900.0                          15                            0   \n",
       "4          2167.0                           3                            0   \n",
       "\n",
       "   numero_emprestimos_imobiliarios  numero_de_vezes_que_passou_60_89_dias  \\\n",
       "0                                2                                      0   \n",
       "1                                0                                      0   \n",
       "2                                1                                      0   \n",
       "3                                1                                      1   \n",
       "4                                0                                      0   \n",
       "\n",
       "   numero_de_dependentes  \n",
       "0                    0.0  \n",
       "1                    0.0  \n",
       "2                    0.0  \n",
       "3                    0.0  \n",
       "4                    0.0  "
      ]
     },
     "execution_count": 388,
     "metadata": {},
     "output_type": "execute_result"
    }
   ],
   "source": [
    "df_raw_teste.head()"
   ]
  },
  {
   "cell_type": "code",
   "execution_count": 389,
   "id": "f51c5f66-ef86-4786-a22e-1835ce385c5a",
   "metadata": {},
   "outputs": [
    {
     "data": {
      "text/html": [
       "<div>\n",
       "<style scoped>\n",
       "    .dataframe tbody tr th:only-of-type {\n",
       "        vertical-align: middle;\n",
       "    }\n",
       "\n",
       "    .dataframe tbody tr th {\n",
       "        vertical-align: top;\n",
       "    }\n",
       "\n",
       "    .dataframe thead th {\n",
       "        text-align: right;\n",
       "    }\n",
       "</style>\n",
       "<table border=\"1\" class=\"dataframe\">\n",
       "  <thead>\n",
       "    <tr style=\"text-align: right;\">\n",
       "      <th></th>\n",
       "      <th>inadimplente</th>\n",
       "      <th>util_linhas_inseguras</th>\n",
       "      <th>idade</th>\n",
       "      <th>vezes_passou_de_30_59_dias</th>\n",
       "      <th>razao_debito</th>\n",
       "      <th>salario_mensal</th>\n",
       "      <th>numero_linhas_crdto_aberto</th>\n",
       "      <th>numero_vezes_passou_90_dias</th>\n",
       "      <th>numero_emprestimos_imobiliarios</th>\n",
       "      <th>numero_de_vezes_que_passou_60_89_dias</th>\n",
       "      <th>numero_de_dependentes</th>\n",
       "    </tr>\n",
       "  </thead>\n",
       "  <tbody>\n",
       "    <tr>\n",
       "      <th>0</th>\n",
       "      <td>1</td>\n",
       "      <td>0.766127</td>\n",
       "      <td>45</td>\n",
       "      <td>2</td>\n",
       "      <td>0.802982</td>\n",
       "      <td>9120.0</td>\n",
       "      <td>13</td>\n",
       "      <td>0</td>\n",
       "      <td>6</td>\n",
       "      <td>0</td>\n",
       "      <td>2.0</td>\n",
       "    </tr>\n",
       "    <tr>\n",
       "      <th>1</th>\n",
       "      <td>0</td>\n",
       "      <td>0.957151</td>\n",
       "      <td>40</td>\n",
       "      <td>0</td>\n",
       "      <td>0.121876</td>\n",
       "      <td>2600.0</td>\n",
       "      <td>4</td>\n",
       "      <td>0</td>\n",
       "      <td>0</td>\n",
       "      <td>0</td>\n",
       "      <td>1.0</td>\n",
       "    </tr>\n",
       "    <tr>\n",
       "      <th>2</th>\n",
       "      <td>0</td>\n",
       "      <td>0.658180</td>\n",
       "      <td>38</td>\n",
       "      <td>1</td>\n",
       "      <td>0.085113</td>\n",
       "      <td>3042.0</td>\n",
       "      <td>2</td>\n",
       "      <td>1</td>\n",
       "      <td>0</td>\n",
       "      <td>0</td>\n",
       "      <td>0.0</td>\n",
       "    </tr>\n",
       "    <tr>\n",
       "      <th>3</th>\n",
       "      <td>0</td>\n",
       "      <td>0.233810</td>\n",
       "      <td>30</td>\n",
       "      <td>0</td>\n",
       "      <td>0.036050</td>\n",
       "      <td>3300.0</td>\n",
       "      <td>5</td>\n",
       "      <td>0</td>\n",
       "      <td>0</td>\n",
       "      <td>0</td>\n",
       "      <td>0.0</td>\n",
       "    </tr>\n",
       "    <tr>\n",
       "      <th>4</th>\n",
       "      <td>0</td>\n",
       "      <td>0.907239</td>\n",
       "      <td>49</td>\n",
       "      <td>1</td>\n",
       "      <td>0.024926</td>\n",
       "      <td>63588.0</td>\n",
       "      <td>7</td>\n",
       "      <td>0</td>\n",
       "      <td>1</td>\n",
       "      <td>0</td>\n",
       "      <td>0.0</td>\n",
       "    </tr>\n",
       "  </tbody>\n",
       "</table>\n",
       "</div>"
      ],
      "text/plain": [
       "   inadimplente  util_linhas_inseguras  idade  vezes_passou_de_30_59_dias  \\\n",
       "0             1               0.766127     45                           2   \n",
       "1             0               0.957151     40                           0   \n",
       "2             0               0.658180     38                           1   \n",
       "3             0               0.233810     30                           0   \n",
       "4             0               0.907239     49                           1   \n",
       "\n",
       "   razao_debito  salario_mensal  numero_linhas_crdto_aberto  \\\n",
       "0      0.802982          9120.0                          13   \n",
       "1      0.121876          2600.0                           4   \n",
       "2      0.085113          3042.0                           2   \n",
       "3      0.036050          3300.0                           5   \n",
       "4      0.024926         63588.0                           7   \n",
       "\n",
       "   numero_vezes_passou_90_dias  numero_emprestimos_imobiliarios  \\\n",
       "0                            0                                6   \n",
       "1                            0                                0   \n",
       "2                            1                                0   \n",
       "3                            0                                0   \n",
       "4                            0                                1   \n",
       "\n",
       "   numero_de_vezes_que_passou_60_89_dias  numero_de_dependentes  \n",
       "0                                      0                    2.0  \n",
       "1                                      0                    1.0  \n",
       "2                                      0                    0.0  \n",
       "3                                      0                    0.0  \n",
       "4                                      0                    0.0  "
      ]
     },
     "execution_count": 389,
     "metadata": {},
     "output_type": "execute_result"
    }
   ],
   "source": [
    "df_raw_treino.head()"
   ]
  },
  {
   "cell_type": "markdown",
   "id": "4ea7a38a-4cce-4dce-abe0-2aa1782ddece",
   "metadata": {
    "tags": []
   },
   "source": [
    "## **1.0. Data descripitions**"
   ]
  },
  {
   "cell_type": "code",
   "execution_count": 390,
   "id": "2bc78432-26e4-45d1-84c8-e58056d039c7",
   "metadata": {},
   "outputs": [],
   "source": [
    "# Todo o conhecimento dos dados sera feito nos dados de treino\n",
    "df1 = df_raw_treino.copy()\n",
    "df_teste1 = df_raw_teste"
   ]
  },
  {
   "cell_type": "markdown",
   "id": "8540e617-0d9b-45c1-93b4-9362537c2357",
   "metadata": {},
   "source": [
    "### **1.1. Rename columns**"
   ]
  },
  {
   "cell_type": "code",
   "execution_count": 391,
   "id": "f0246473-4ee3-4017-96bb-e10a1d556a06",
   "metadata": {},
   "outputs": [
    {
     "data": {
      "text/plain": [
       "['inadimplente',\n",
       " 'util_linhas_inseguras',\n",
       " 'idade',\n",
       " 'vezes_passou_de_30_59_dias',\n",
       " 'razao_debito',\n",
       " 'salario_mensal',\n",
       " 'numero_linhas_crdto_aberto',\n",
       " 'numero_vezes_passou_90_dias',\n",
       " 'numero_emprestimos_imobiliarios',\n",
       " 'numero_de_vezes_que_passou_60_89_dias',\n",
       " 'numero_de_dependentes']"
      ]
     },
     "execution_count": 391,
     "metadata": {},
     "output_type": "execute_result"
    }
   ],
   "source": [
    "df1.columns.to_list()"
   ]
  },
  {
   "cell_type": "code",
   "execution_count": 392,
   "id": "48dd6ae0-b3a8-456c-b349-b5f5cc40b12d",
   "metadata": {},
   "outputs": [],
   "source": [
    "cols_news = ['inadimplente', 'linhas_inseguras', 'idade', 'qtd_passou_de_30_59_dias', 'razao_debito',\n",
    "             'salario_mensal', 'qtd_crdto_aberto', 'qtd_passou_90_dias', 'qtd_emp_imobiliarios',\n",
    "             'qtd_passou_60_89_dias', 'qtd_dependentes']\n",
    "df1.columns = cols_news\n",
    "\n",
    "\n",
    "cols_news_teste = ['linhas_inseguras', 'idade', 'qtd_passou_de_30_59_dias', 'razao_debito',\n",
    "             'salario_mensal', 'qtd_crdto_aberto', 'qtd_passou_90_dias', 'qtd_emp_imobiliarios',\n",
    "             'qtd_passou_60_89_dias', 'qtd_dependentes']\n",
    "\n",
    "df_teste1.columns = cols_news_teste\n"
   ]
  },
  {
   "cell_type": "code",
   "execution_count": 393,
   "id": "597e0beb-0f76-4119-a3b4-03a08800ea84",
   "metadata": {},
   "outputs": [
    {
     "data": {
      "text/plain": [
       "['inadimplente',\n",
       " 'linhas_inseguras',\n",
       " 'idade',\n",
       " 'qtd_passou_de_30_59_dias',\n",
       " 'razao_debito',\n",
       " 'salario_mensal',\n",
       " 'qtd_crdto_aberto',\n",
       " 'qtd_passou_90_dias',\n",
       " 'qtd_emp_imobiliarios',\n",
       " 'qtd_passou_60_89_dias',\n",
       " 'qtd_dependentes']"
      ]
     },
     "execution_count": 393,
     "metadata": {},
     "output_type": "execute_result"
    }
   ],
   "source": [
    "df1.columns.to_list()"
   ]
  },
  {
   "cell_type": "code",
   "execution_count": 394,
   "id": "79539a3a-4d56-439c-b7d8-f2cb95356fc8",
   "metadata": {},
   "outputs": [
    {
     "data": {
      "text/plain": [
       "['linhas_inseguras',\n",
       " 'idade',\n",
       " 'qtd_passou_de_30_59_dias',\n",
       " 'razao_debito',\n",
       " 'salario_mensal',\n",
       " 'qtd_crdto_aberto',\n",
       " 'qtd_passou_90_dias',\n",
       " 'qtd_emp_imobiliarios',\n",
       " 'qtd_passou_60_89_dias',\n",
       " 'qtd_dependentes']"
      ]
     },
     "execution_count": 394,
     "metadata": {},
     "output_type": "execute_result"
    }
   ],
   "source": [
    "df_teste1.columns.to_list()"
   ]
  },
  {
   "cell_type": "markdown",
   "id": "25b61018-3940-45eb-876c-4731de8cbf51",
   "metadata": {},
   "source": [
    "### **1.2. Data dimensions**"
   ]
  },
  {
   "cell_type": "code",
   "execution_count": 395,
   "id": "3a56cc1d-fc29-4700-830b-8d90ec421bb2",
   "metadata": {},
   "outputs": [
    {
     "name": "stdout",
     "output_type": "stream",
     "text": [
      "Number of cols Train: 11\n",
      "Number of rows Train: 110000\n",
      "Number of cols Test: 11\n",
      "Number of rows Test: 110000\n"
     ]
    }
   ],
   "source": [
    "print('Number of cols Train: {}'.format(df1.shape[1]))\n",
    "print('Number of rows Train: {}'.format(df1.shape[0]))\n",
    "print('Number of cols Test: {}'.format(df1.shape[1]))\n",
    "print('Number of rows Test: {}'.format(df1.shape[0]))"
   ]
  },
  {
   "cell_type": "markdown",
   "id": "efa236fa-99ef-4711-ad1d-753eea5075b6",
   "metadata": {},
   "source": [
    "### **1.3. Data types**"
   ]
  },
  {
   "cell_type": "code",
   "execution_count": 396,
   "id": "d952d148-639b-4404-a899-f5885558c82f",
   "metadata": {},
   "outputs": [
    {
     "data": {
      "text/plain": [
       "inadimplente                  int64\n",
       "linhas_inseguras            float64\n",
       "idade                         int64\n",
       "qtd_passou_de_30_59_dias      int64\n",
       "razao_debito                float64\n",
       "salario_mensal              float64\n",
       "qtd_crdto_aberto              int64\n",
       "qtd_passou_90_dias            int64\n",
       "qtd_emp_imobiliarios          int64\n",
       "qtd_passou_60_89_dias         int64\n",
       "qtd_dependentes             float64\n",
       "dtype: object"
      ]
     },
     "execution_count": 396,
     "metadata": {},
     "output_type": "execute_result"
    }
   ],
   "source": [
    "df1.dtypes"
   ]
  },
  {
   "cell_type": "markdown",
   "id": "39e9db3d-c208-480e-bc06-f56f0f1100bf",
   "metadata": {},
   "source": [
    "### **1.4 Check NAs**"
   ]
  },
  {
   "cell_type": "code",
   "execution_count": 397,
   "id": "cf235ca9-c1c0-4546-9272-5011f7163bb6",
   "metadata": {},
   "outputs": [
    {
     "data": {
      "text/plain": [
       "inadimplente                    0\n",
       "linhas_inseguras                0\n",
       "idade                           0\n",
       "qtd_passou_de_30_59_dias        0\n",
       "razao_debito                    0\n",
       "salario_mensal              21763\n",
       "qtd_crdto_aberto                0\n",
       "qtd_passou_90_dias              0\n",
       "qtd_emp_imobiliarios            0\n",
       "qtd_passou_60_89_dias           0\n",
       "qtd_dependentes              2878\n",
       "dtype: int64"
      ]
     },
     "execution_count": 397,
     "metadata": {},
     "output_type": "execute_result"
    }
   ],
   "source": [
    "df1.isna().sum()"
   ]
  },
  {
   "cell_type": "markdown",
   "id": "7be2ed85-b4dc-4245-a488-ed6abd4e1a0a",
   "metadata": {},
   "source": [
    "#### **OBS 1:** Estou tomando como premissa no primeiro ciclo do CRIPS que a regra de negocio do sistema que contem as informações considera valores NAs para clientes que nunca atrasaram em nenhum dos periodos.\n",
    "#### **OBS 2:** Estou tomando como premissa no primeiro ciclo do CRIPS que clientes que não enviaram seus respectivos salarios devem ser considerados para não perder clientes como recebendo 1 salario minimo no Brasil.\n",
    "#### **OBS 3:** Estou tomando como premissa no primeiro ciclo do CRIPS que clientes com NAs em qtd_dependentes não possuem dependentes então o numero que melhor representa é 0 ."
   ]
  },
  {
   "cell_type": "markdown",
   "id": "ce7e67f0-c3b1-466d-8b73-4a518691c2de",
   "metadata": {},
   "source": [
    "### **1.5. Replace NAs**"
   ]
  },
  {
   "cell_type": "markdown",
   "id": "210cbeaa-8fec-4393-b6f6-f4944a34608a",
   "metadata": {},
   "source": [
    "#### **Se as colunas qtd_passou_90_dias e qtd_passou_60_89_dias representam a quantidade de vezes que esses clientes passou X quantidade de dias em atraso, o valor que melhor representa clientes que nuca atrasaram é 0**"
   ]
  },
  {
   "cell_type": "code",
   "execution_count": 398,
   "id": "7b9487eb-0783-4603-8462-a31fe6af96d6",
   "metadata": {},
   "outputs": [],
   "source": [
    "df1['qtd_passou_90_dias'] = df1['qtd_passou_90_dias'].apply( lambda x: 0 if math.isnan( x ) else x )\n",
    "df1['qtd_passou_60_89_dias'] = df1['qtd_passou_60_89_dias'].apply(lambda x: 0 if math.isnan( x ) else x)\n",
    "df1['salario_mensal'] = df1['salario_mensal'].apply(lambda x: 1.212 if math.isnan( x ) else x)\n",
    "df1['qtd_dependentes'] = df1['qtd_dependentes'].apply(lambda x: 0 if math.isnan( x ) else x)\n"
   ]
  },
  {
   "cell_type": "code",
   "execution_count": 399,
   "id": "32ee235c-7612-4a67-be45-434ffced8dca",
   "metadata": {},
   "outputs": [
    {
     "data": {
      "text/plain": [
       "inadimplente                0\n",
       "linhas_inseguras            0\n",
       "idade                       0\n",
       "qtd_passou_de_30_59_dias    0\n",
       "razao_debito                0\n",
       "salario_mensal              0\n",
       "qtd_crdto_aberto            0\n",
       "qtd_passou_90_dias          0\n",
       "qtd_emp_imobiliarios        0\n",
       "qtd_passou_60_89_dias       0\n",
       "qtd_dependentes             0\n",
       "dtype: int64"
      ]
     },
     "execution_count": 399,
     "metadata": {},
     "output_type": "execute_result"
    }
   ],
   "source": [
    "df1.isna().sum()"
   ]
  },
  {
   "cell_type": "markdown",
   "id": "6047442d-41b8-45d1-8179-0ccb41f06ab8",
   "metadata": {},
   "source": [
    "### **1.6. Change dtypes**"
   ]
  },
  {
   "cell_type": "code",
   "execution_count": 400,
   "id": "a423e079-caf3-4f63-8f0a-0d1289cf1092",
   "metadata": {},
   "outputs": [
    {
     "data": {
      "text/plain": [
       "inadimplente                  int64\n",
       "linhas_inseguras            float64\n",
       "idade                         int64\n",
       "qtd_passou_de_30_59_dias      int64\n",
       "razao_debito                float64\n",
       "salario_mensal              float64\n",
       "qtd_crdto_aberto              int64\n",
       "qtd_passou_90_dias            int64\n",
       "qtd_emp_imobiliarios          int64\n",
       "qtd_passou_60_89_dias         int64\n",
       "qtd_dependentes             float64\n",
       "dtype: object"
      ]
     },
     "execution_count": 400,
     "metadata": {},
     "output_type": "execute_result"
    }
   ],
   "source": [
    "df1.dtypes"
   ]
  },
  {
   "cell_type": "code",
   "execution_count": 401,
   "id": "9560f038-2649-45d6-b6c2-dc06dd7859f2",
   "metadata": {},
   "outputs": [
    {
     "data": {
      "text/html": [
       "<div>\n",
       "<style scoped>\n",
       "    .dataframe tbody tr th:only-of-type {\n",
       "        vertical-align: middle;\n",
       "    }\n",
       "\n",
       "    .dataframe tbody tr th {\n",
       "        vertical-align: top;\n",
       "    }\n",
       "\n",
       "    .dataframe thead th {\n",
       "        text-align: right;\n",
       "    }\n",
       "</style>\n",
       "<table border=\"1\" class=\"dataframe\">\n",
       "  <thead>\n",
       "    <tr style=\"text-align: right;\">\n",
       "      <th></th>\n",
       "      <th>inadimplente</th>\n",
       "      <th>linhas_inseguras</th>\n",
       "      <th>idade</th>\n",
       "      <th>qtd_passou_de_30_59_dias</th>\n",
       "      <th>razao_debito</th>\n",
       "      <th>salario_mensal</th>\n",
       "      <th>qtd_crdto_aberto</th>\n",
       "      <th>qtd_passou_90_dias</th>\n",
       "      <th>qtd_emp_imobiliarios</th>\n",
       "      <th>qtd_passou_60_89_dias</th>\n",
       "      <th>qtd_dependentes</th>\n",
       "    </tr>\n",
       "  </thead>\n",
       "  <tbody>\n",
       "    <tr>\n",
       "      <th>0</th>\n",
       "      <td>1</td>\n",
       "      <td>0.766127</td>\n",
       "      <td>45</td>\n",
       "      <td>2</td>\n",
       "      <td>0.802982</td>\n",
       "      <td>9120.0</td>\n",
       "      <td>13</td>\n",
       "      <td>0</td>\n",
       "      <td>6</td>\n",
       "      <td>0</td>\n",
       "      <td>2.0</td>\n",
       "    </tr>\n",
       "    <tr>\n",
       "      <th>1</th>\n",
       "      <td>0</td>\n",
       "      <td>0.957151</td>\n",
       "      <td>40</td>\n",
       "      <td>0</td>\n",
       "      <td>0.121876</td>\n",
       "      <td>2600.0</td>\n",
       "      <td>4</td>\n",
       "      <td>0</td>\n",
       "      <td>0</td>\n",
       "      <td>0</td>\n",
       "      <td>1.0</td>\n",
       "    </tr>\n",
       "    <tr>\n",
       "      <th>2</th>\n",
       "      <td>0</td>\n",
       "      <td>0.658180</td>\n",
       "      <td>38</td>\n",
       "      <td>1</td>\n",
       "      <td>0.085113</td>\n",
       "      <td>3042.0</td>\n",
       "      <td>2</td>\n",
       "      <td>1</td>\n",
       "      <td>0</td>\n",
       "      <td>0</td>\n",
       "      <td>0.0</td>\n",
       "    </tr>\n",
       "    <tr>\n",
       "      <th>3</th>\n",
       "      <td>0</td>\n",
       "      <td>0.233810</td>\n",
       "      <td>30</td>\n",
       "      <td>0</td>\n",
       "      <td>0.036050</td>\n",
       "      <td>3300.0</td>\n",
       "      <td>5</td>\n",
       "      <td>0</td>\n",
       "      <td>0</td>\n",
       "      <td>0</td>\n",
       "      <td>0.0</td>\n",
       "    </tr>\n",
       "    <tr>\n",
       "      <th>4</th>\n",
       "      <td>0</td>\n",
       "      <td>0.907239</td>\n",
       "      <td>49</td>\n",
       "      <td>1</td>\n",
       "      <td>0.024926</td>\n",
       "      <td>63588.0</td>\n",
       "      <td>7</td>\n",
       "      <td>0</td>\n",
       "      <td>1</td>\n",
       "      <td>0</td>\n",
       "      <td>0.0</td>\n",
       "    </tr>\n",
       "  </tbody>\n",
       "</table>\n",
       "</div>"
      ],
      "text/plain": [
       "   inadimplente  linhas_inseguras  idade  qtd_passou_de_30_59_dias  \\\n",
       "0             1          0.766127     45                         2   \n",
       "1             0          0.957151     40                         0   \n",
       "2             0          0.658180     38                         1   \n",
       "3             0          0.233810     30                         0   \n",
       "4             0          0.907239     49                         1   \n",
       "\n",
       "   razao_debito  salario_mensal  qtd_crdto_aberto  qtd_passou_90_dias  \\\n",
       "0      0.802982          9120.0                13                   0   \n",
       "1      0.121876          2600.0                 4                   0   \n",
       "2      0.085113          3042.0                 2                   1   \n",
       "3      0.036050          3300.0                 5                   0   \n",
       "4      0.024926         63588.0                 7                   0   \n",
       "\n",
       "   qtd_emp_imobiliarios  qtd_passou_60_89_dias  qtd_dependentes  \n",
       "0                     6                      0              2.0  \n",
       "1                     0                      0              1.0  \n",
       "2                     0                      0              0.0  \n",
       "3                     0                      0              0.0  \n",
       "4                     1                      0              0.0  "
      ]
     },
     "execution_count": 401,
     "metadata": {},
     "output_type": "execute_result"
    }
   ],
   "source": [
    "df1.head()"
   ]
  },
  {
   "cell_type": "markdown",
   "id": "b5a34384-2cd8-4e1c-acde-384f0b1835a4",
   "metadata": {},
   "source": [
    "#### OBS: A premissa é que este valor seja referente a porcentagem. \n",
    "#### Exemplo: utilizou 95,2% do total do seu limite de credito\n",
    "linhas_inseguras(util_linhas_inseguras): Quanto que o cliente está usando, relativamente ao limite dele, de linhas de crédito que não são seguradas por qualquer bem do tomador e.g: imoveis, carros etc."
   ]
  },
  {
   "cell_type": "code",
   "execution_count": 402,
   "id": "1e2871f8-92b3-44f9-80d0-7cf1d5e455f4",
   "metadata": {},
   "outputs": [
    {
     "data": {
      "text/plain": [
       "inadimplente                  int64\n",
       "linhas_inseguras            float64\n",
       "idade                         int64\n",
       "qtd_passou_de_30_59_dias      int64\n",
       "razao_debito                float64\n",
       "salario_mensal              float64\n",
       "qtd_crdto_aberto              int64\n",
       "qtd_passou_90_dias            int64\n",
       "qtd_emp_imobiliarios          int64\n",
       "qtd_passou_60_89_dias         int64\n",
       "qtd_dependentes               int64\n",
       "dtype: object"
      ]
     },
     "execution_count": 402,
     "metadata": {},
     "output_type": "execute_result"
    }
   ],
   "source": [
    "# linhas_inseguras\n",
    "## Para um proximo ciclo talvez seja interessante a conversão para int\n",
    "\n",
    "# qtd_dependentes\n",
    "df1['qtd_dependentes'] = df1['qtd_dependentes'].astype( int )\n",
    "df1.dtypes"
   ]
  },
  {
   "cell_type": "markdown",
   "id": "5ca471d4-b84b-40c5-8745-59162cf8dff5",
   "metadata": {},
   "source": [
    "### **1.7. Descriptive Statistics**"
   ]
  },
  {
   "cell_type": "code",
   "execution_count": 403,
   "id": "7083ed8c-06f9-43c4-b000-c0c6774b1740",
   "metadata": {},
   "outputs": [],
   "source": [
    "# Irei verificar no proximo ciclo, foco em rodar o ML a primeira vez paravalidar dados e aprendizado"
   ]
  },
  {
   "cell_type": "markdown",
   "id": "ef38dbc6-eec9-43d6-9ee1-942af564d5e9",
   "metadata": {},
   "source": [
    "## **2.0. Feature engenering**"
   ]
  },
  {
   "cell_type": "code",
   "execution_count": 453,
   "id": "620c2231-91c7-456d-8fba-9bf9d21b5fca",
   "metadata": {},
   "outputs": [],
   "source": [
    "df_teste2 = df_teste1.copy()"
   ]
  },
  {
   "cell_type": "code",
   "execution_count": 454,
   "id": "d91f81d0-2dab-4003-ad12-5be255072eed",
   "metadata": {},
   "outputs": [],
   "source": [
    "df_teste2['inadimplente'] = 0"
   ]
  },
  {
   "cell_type": "code",
   "execution_count": 455,
   "id": "3fedf43b-14d1-480c-b932-0c7acf78e84e",
   "metadata": {},
   "outputs": [
    {
     "data": {
      "text/html": [
       "<div>\n",
       "<style scoped>\n",
       "    .dataframe tbody tr th:only-of-type {\n",
       "        vertical-align: middle;\n",
       "    }\n",
       "\n",
       "    .dataframe tbody tr th {\n",
       "        vertical-align: top;\n",
       "    }\n",
       "\n",
       "    .dataframe thead th {\n",
       "        text-align: right;\n",
       "    }\n",
       "</style>\n",
       "<table border=\"1\" class=\"dataframe\">\n",
       "  <thead>\n",
       "    <tr style=\"text-align: right;\">\n",
       "      <th></th>\n",
       "      <th>linhas_inseguras</th>\n",
       "      <th>idade</th>\n",
       "      <th>qtd_passou_de_30_59_dias</th>\n",
       "      <th>razao_debito</th>\n",
       "      <th>salario_mensal</th>\n",
       "      <th>qtd_crdto_aberto</th>\n",
       "      <th>qtd_passou_90_dias</th>\n",
       "      <th>qtd_emp_imobiliarios</th>\n",
       "      <th>qtd_passou_60_89_dias</th>\n",
       "      <th>qtd_dependentes</th>\n",
       "      <th>inadimplente</th>\n",
       "    </tr>\n",
       "  </thead>\n",
       "  <tbody>\n",
       "    <tr>\n",
       "      <th>0</th>\n",
       "      <td>0.025849</td>\n",
       "      <td>62</td>\n",
       "      <td>0</td>\n",
       "      <td>0.081775</td>\n",
       "      <td>8180.0</td>\n",
       "      <td>3</td>\n",
       "      <td>0</td>\n",
       "      <td>2</td>\n",
       "      <td>0</td>\n",
       "      <td>0.0</td>\n",
       "      <td>0</td>\n",
       "    </tr>\n",
       "    <tr>\n",
       "      <th>1</th>\n",
       "      <td>0.667083</td>\n",
       "      <td>55</td>\n",
       "      <td>0</td>\n",
       "      <td>0.153112</td>\n",
       "      <td>2200.0</td>\n",
       "      <td>3</td>\n",
       "      <td>0</td>\n",
       "      <td>0</td>\n",
       "      <td>0</td>\n",
       "      <td>0.0</td>\n",
       "      <td>0</td>\n",
       "    </tr>\n",
       "    <tr>\n",
       "      <th>2</th>\n",
       "      <td>0.007093</td>\n",
       "      <td>44</td>\n",
       "      <td>0</td>\n",
       "      <td>0.148800</td>\n",
       "      <td>7499.0</td>\n",
       "      <td>20</td>\n",
       "      <td>0</td>\n",
       "      <td>1</td>\n",
       "      <td>0</td>\n",
       "      <td>0.0</td>\n",
       "      <td>0</td>\n",
       "    </tr>\n",
       "    <tr>\n",
       "      <th>3</th>\n",
       "      <td>0.091213</td>\n",
       "      <td>54</td>\n",
       "      <td>0</td>\n",
       "      <td>0.351635</td>\n",
       "      <td>5900.0</td>\n",
       "      <td>15</td>\n",
       "      <td>0</td>\n",
       "      <td>1</td>\n",
       "      <td>1</td>\n",
       "      <td>0.0</td>\n",
       "      <td>0</td>\n",
       "    </tr>\n",
       "    <tr>\n",
       "      <th>4</th>\n",
       "      <td>0.112680</td>\n",
       "      <td>54</td>\n",
       "      <td>0</td>\n",
       "      <td>0.065959</td>\n",
       "      <td>2167.0</td>\n",
       "      <td>3</td>\n",
       "      <td>0</td>\n",
       "      <td>0</td>\n",
       "      <td>0</td>\n",
       "      <td>0.0</td>\n",
       "      <td>0</td>\n",
       "    </tr>\n",
       "  </tbody>\n",
       "</table>\n",
       "</div>"
      ],
      "text/plain": [
       "   linhas_inseguras  idade  qtd_passou_de_30_59_dias  razao_debito  \\\n",
       "0          0.025849     62                         0      0.081775   \n",
       "1          0.667083     55                         0      0.153112   \n",
       "2          0.007093     44                         0      0.148800   \n",
       "3          0.091213     54                         0      0.351635   \n",
       "4          0.112680     54                         0      0.065959   \n",
       "\n",
       "   salario_mensal  qtd_crdto_aberto  qtd_passou_90_dias  qtd_emp_imobiliarios  \\\n",
       "0          8180.0                 3                   0                     2   \n",
       "1          2200.0                 3                   0                     0   \n",
       "2          7499.0                20                   0                     1   \n",
       "3          5900.0                15                   0                     1   \n",
       "4          2167.0                 3                   0                     0   \n",
       "\n",
       "   qtd_passou_60_89_dias  qtd_dependentes  inadimplente  \n",
       "0                      0              0.0             0  \n",
       "1                      0              0.0             0  \n",
       "2                      0              0.0             0  \n",
       "3                      1              0.0             0  \n",
       "4                      0              0.0             0  "
      ]
     },
     "execution_count": 455,
     "metadata": {},
     "output_type": "execute_result"
    }
   ],
   "source": [
    "df_teste2.head()"
   ]
  },
  {
   "cell_type": "code",
   "execution_count": 458,
   "id": "5163617d-bdc3-4de9-b115-a26688e3e1f8",
   "metadata": {},
   "outputs": [],
   "source": [
    "\n",
    "df_teste2 = df_teste2.reindex(columns=['inadimplente',\n",
    "                                       'linhas_inseguras',\n",
    "                                       'idade',\n",
    "                                       'qtd_passou_de_30_59_dias',\n",
    "                                       'razao_debito',\n",
    "                                       'salario_mensal',\n",
    "                                       'qtd_crdto_aberto',\n",
    "                                       'qtd_passou_90_dias',\n",
    "                                       'qtd_emp_imobiliarios',\n",
    "                                       'qtd_passou_60_89_dias',\n",
    "                                       'qtd_dependentes',\n",
    "                                       'grupo_idade',\n",
    "                                       'classe_financeira'])"
   ]
  },
  {
   "cell_type": "code",
   "execution_count": 459,
   "id": "d160c332-0448-4b5b-bf61-8933dcb564b8",
   "metadata": {},
   "outputs": [
    {
     "data": {
      "text/html": [
       "<div>\n",
       "<style scoped>\n",
       "    .dataframe tbody tr th:only-of-type {\n",
       "        vertical-align: middle;\n",
       "    }\n",
       "\n",
       "    .dataframe tbody tr th {\n",
       "        vertical-align: top;\n",
       "    }\n",
       "\n",
       "    .dataframe thead th {\n",
       "        text-align: right;\n",
       "    }\n",
       "</style>\n",
       "<table border=\"1\" class=\"dataframe\">\n",
       "  <thead>\n",
       "    <tr style=\"text-align: right;\">\n",
       "      <th></th>\n",
       "      <th>inadimplente</th>\n",
       "      <th>linhas_inseguras</th>\n",
       "      <th>idade</th>\n",
       "      <th>qtd_passou_de_30_59_dias</th>\n",
       "      <th>razao_debito</th>\n",
       "      <th>salario_mensal</th>\n",
       "      <th>qtd_crdto_aberto</th>\n",
       "      <th>qtd_passou_90_dias</th>\n",
       "      <th>qtd_emp_imobiliarios</th>\n",
       "      <th>qtd_passou_60_89_dias</th>\n",
       "      <th>qtd_dependentes</th>\n",
       "      <th>grupo_idade</th>\n",
       "      <th>classe_financeira</th>\n",
       "    </tr>\n",
       "  </thead>\n",
       "  <tbody>\n",
       "    <tr>\n",
       "      <th>0</th>\n",
       "      <td>0</td>\n",
       "      <td>0.025849</td>\n",
       "      <td>62</td>\n",
       "      <td>0</td>\n",
       "      <td>0.081775</td>\n",
       "      <td>8180.0</td>\n",
       "      <td>3</td>\n",
       "      <td>0</td>\n",
       "      <td>2</td>\n",
       "      <td>0</td>\n",
       "      <td>0.0</td>\n",
       "      <td>NaN</td>\n",
       "      <td>NaN</td>\n",
       "    </tr>\n",
       "    <tr>\n",
       "      <th>1</th>\n",
       "      <td>0</td>\n",
       "      <td>0.667083</td>\n",
       "      <td>55</td>\n",
       "      <td>0</td>\n",
       "      <td>0.153112</td>\n",
       "      <td>2200.0</td>\n",
       "      <td>3</td>\n",
       "      <td>0</td>\n",
       "      <td>0</td>\n",
       "      <td>0</td>\n",
       "      <td>0.0</td>\n",
       "      <td>NaN</td>\n",
       "      <td>NaN</td>\n",
       "    </tr>\n",
       "    <tr>\n",
       "      <th>2</th>\n",
       "      <td>0</td>\n",
       "      <td>0.007093</td>\n",
       "      <td>44</td>\n",
       "      <td>0</td>\n",
       "      <td>0.148800</td>\n",
       "      <td>7499.0</td>\n",
       "      <td>20</td>\n",
       "      <td>0</td>\n",
       "      <td>1</td>\n",
       "      <td>0</td>\n",
       "      <td>0.0</td>\n",
       "      <td>NaN</td>\n",
       "      <td>NaN</td>\n",
       "    </tr>\n",
       "    <tr>\n",
       "      <th>3</th>\n",
       "      <td>0</td>\n",
       "      <td>0.091213</td>\n",
       "      <td>54</td>\n",
       "      <td>0</td>\n",
       "      <td>0.351635</td>\n",
       "      <td>5900.0</td>\n",
       "      <td>15</td>\n",
       "      <td>0</td>\n",
       "      <td>1</td>\n",
       "      <td>1</td>\n",
       "      <td>0.0</td>\n",
       "      <td>NaN</td>\n",
       "      <td>NaN</td>\n",
       "    </tr>\n",
       "    <tr>\n",
       "      <th>4</th>\n",
       "      <td>0</td>\n",
       "      <td>0.112680</td>\n",
       "      <td>54</td>\n",
       "      <td>0</td>\n",
       "      <td>0.065959</td>\n",
       "      <td>2167.0</td>\n",
       "      <td>3</td>\n",
       "      <td>0</td>\n",
       "      <td>0</td>\n",
       "      <td>0</td>\n",
       "      <td>0.0</td>\n",
       "      <td>NaN</td>\n",
       "      <td>NaN</td>\n",
       "    </tr>\n",
       "    <tr>\n",
       "      <th>5</th>\n",
       "      <td>0</td>\n",
       "      <td>0.323985</td>\n",
       "      <td>42</td>\n",
       "      <td>0</td>\n",
       "      <td>0.352151</td>\n",
       "      <td>10415.0</td>\n",
       "      <td>8</td>\n",
       "      <td>0</td>\n",
       "      <td>2</td>\n",
       "      <td>0</td>\n",
       "      <td>2.0</td>\n",
       "      <td>NaN</td>\n",
       "      <td>NaN</td>\n",
       "    </tr>\n",
       "    <tr>\n",
       "      <th>6</th>\n",
       "      <td>0</td>\n",
       "      <td>0.007300</td>\n",
       "      <td>63</td>\n",
       "      <td>0</td>\n",
       "      <td>0.002289</td>\n",
       "      <td>4368.0</td>\n",
       "      <td>2</td>\n",
       "      <td>0</td>\n",
       "      <td>0</td>\n",
       "      <td>0</td>\n",
       "      <td>0.0</td>\n",
       "      <td>NaN</td>\n",
       "      <td>NaN</td>\n",
       "    </tr>\n",
       "    <tr>\n",
       "      <th>7</th>\n",
       "      <td>0</td>\n",
       "      <td>0.000000</td>\n",
       "      <td>76</td>\n",
       "      <td>1</td>\n",
       "      <td>0.261611</td>\n",
       "      <td>1700.0</td>\n",
       "      <td>4</td>\n",
       "      <td>0</td>\n",
       "      <td>0</td>\n",
       "      <td>0</td>\n",
       "      <td>0.0</td>\n",
       "      <td>NaN</td>\n",
       "      <td>NaN</td>\n",
       "    </tr>\n",
       "    <tr>\n",
       "      <th>8</th>\n",
       "      <td>0</td>\n",
       "      <td>0.062280</td>\n",
       "      <td>55</td>\n",
       "      <td>0</td>\n",
       "      <td>0.406667</td>\n",
       "      <td>15658.0</td>\n",
       "      <td>14</td>\n",
       "      <td>1</td>\n",
       "      <td>3</td>\n",
       "      <td>0</td>\n",
       "      <td>0.0</td>\n",
       "      <td>NaN</td>\n",
       "      <td>NaN</td>\n",
       "    </tr>\n",
       "    <tr>\n",
       "      <th>9</th>\n",
       "      <td>0</td>\n",
       "      <td>0.479899</td>\n",
       "      <td>41</td>\n",
       "      <td>1</td>\n",
       "      <td>0.209903</td>\n",
       "      <td>8441.0</td>\n",
       "      <td>6</td>\n",
       "      <td>0</td>\n",
       "      <td>3</td>\n",
       "      <td>0</td>\n",
       "      <td>0.0</td>\n",
       "      <td>NaN</td>\n",
       "      <td>NaN</td>\n",
       "    </tr>\n",
       "  </tbody>\n",
       "</table>\n",
       "</div>"
      ],
      "text/plain": [
       "   inadimplente  linhas_inseguras  idade  qtd_passou_de_30_59_dias  \\\n",
       "0             0          0.025849     62                         0   \n",
       "1             0          0.667083     55                         0   \n",
       "2             0          0.007093     44                         0   \n",
       "3             0          0.091213     54                         0   \n",
       "4             0          0.112680     54                         0   \n",
       "5             0          0.323985     42                         0   \n",
       "6             0          0.007300     63                         0   \n",
       "7             0          0.000000     76                         1   \n",
       "8             0          0.062280     55                         0   \n",
       "9             0          0.479899     41                         1   \n",
       "\n",
       "   razao_debito  salario_mensal  qtd_crdto_aberto  qtd_passou_90_dias  \\\n",
       "0      0.081775          8180.0                 3                   0   \n",
       "1      0.153112          2200.0                 3                   0   \n",
       "2      0.148800          7499.0                20                   0   \n",
       "3      0.351635          5900.0                15                   0   \n",
       "4      0.065959          2167.0                 3                   0   \n",
       "5      0.352151         10415.0                 8                   0   \n",
       "6      0.002289          4368.0                 2                   0   \n",
       "7      0.261611          1700.0                 4                   0   \n",
       "8      0.406667         15658.0                14                   1   \n",
       "9      0.209903          8441.0                 6                   0   \n",
       "\n",
       "   qtd_emp_imobiliarios  qtd_passou_60_89_dias  qtd_dependentes  grupo_idade  \\\n",
       "0                     2                      0              0.0          NaN   \n",
       "1                     0                      0              0.0          NaN   \n",
       "2                     1                      0              0.0          NaN   \n",
       "3                     1                      1              0.0          NaN   \n",
       "4                     0                      0              0.0          NaN   \n",
       "5                     2                      0              2.0          NaN   \n",
       "6                     0                      0              0.0          NaN   \n",
       "7                     0                      0              0.0          NaN   \n",
       "8                     3                      0              0.0          NaN   \n",
       "9                     3                      0              0.0          NaN   \n",
       "\n",
       "   classe_financeira  \n",
       "0                NaN  \n",
       "1                NaN  \n",
       "2                NaN  \n",
       "3                NaN  \n",
       "4                NaN  \n",
       "5                NaN  \n",
       "6                NaN  \n",
       "7                NaN  \n",
       "8                NaN  \n",
       "9                NaN  "
      ]
     },
     "execution_count": 459,
     "metadata": {},
     "output_type": "execute_result"
    }
   ],
   "source": [
    "df_teste2.head(10)"
   ]
  },
  {
   "cell_type": "code",
   "execution_count": null,
   "id": "862641cf-e106-4c30-b2cf-50abab04f3a9",
   "metadata": {},
   "outputs": [],
   "source": []
  },
  {
   "cell_type": "code",
   "execution_count": null,
   "id": "eb194e93-5bed-4f99-82fe-61c86640fb45",
   "metadata": {},
   "outputs": [],
   "source": []
  },
  {
   "cell_type": "code",
   "execution_count": 460,
   "id": "f83467d3-3305-44cb-8867-906c1f6b3058",
   "metadata": {},
   "outputs": [],
   "source": [
    "df2 = df1.copy()"
   ]
  },
  {
   "cell_type": "code",
   "execution_count": 484,
   "id": "a63748dc-8c4f-4193-9e18-17ff1b6dce32",
   "metadata": {},
   "outputs": [],
   "source": [
    "# Teste\n",
    "df_teste2['qtd_passou_90_dias'] = df_teste2['qtd_passou_90_dias'].apply( lambda x: 0 if math.isnan( x ) else x )\n",
    "df_teste2['qtd_passou_60_89_dias'] = df_teste2['qtd_passou_60_89_dias'].apply(lambda x: 0 if math.isnan( x ) else x)\n",
    "df_teste2['salario_mensal'] = df_teste2['salario_mensal'].apply(lambda x: 1.212 if math.isnan( x ) else x)\n",
    "df_teste2['qtd_dependentes'] = df_teste2['qtd_dependentes'].apply(lambda x: 0 if math.isnan( x ) else x)"
   ]
  },
  {
   "cell_type": "code",
   "execution_count": 485,
   "id": "defa812c-6052-47f7-bae3-19ad0e4b8222",
   "metadata": {},
   "outputs": [],
   "source": [
    "# Idade(jovem, adulto, idoso)\n",
    "## Jovem <= 26 == 1\n",
    "## Adulto => 27 && <= 58 == 2\n",
    "## Idoso >= 59 == 3\n",
    "df2['grupo_idade'] = df2['idade'].apply(lambda x: '1' if x <= 26 else '2' if (x >= 27) & (x <= 58) else '3')\n",
    "\n",
    "\n",
    "# Classe(baixa, media, alta)\n",
    "## salario classe baixa <= 2424 == 1\n",
    "## salario classe media > 2424 && <= 9999 == 2\n",
    "## salario classe alta > 9999 == 3\n",
    "df2['classe_financeira'] = df2['salario_mensal'].apply(lambda x: '1' if x <= 2424 else '2' if (x >= 2425) & (x <= 9999) else '3')\n",
    "\n",
    "\n",
    "# Dataframe de testes\n",
    "df_teste2['grupo_idade'] = df_teste2['idade'].apply(lambda x: '1' if x <= 26 else '2' if (x >= 27) & (x <= 58) else '3')\n",
    "df_teste2['classe_financeira'] = df_teste2['salario_mensal'].apply(lambda x: '1' if x <= 2424 else '2' if (x >= 2425) & (x <= 9999) else '3')\n",
    "\n"
   ]
  },
  {
   "cell_type": "code",
   "execution_count": 486,
   "id": "3cc03794-a67e-4c3e-b66e-eec3c7aece62",
   "metadata": {},
   "outputs": [
    {
     "data": {
      "text/plain": [
       "inadimplente                0\n",
       "linhas_inseguras            0\n",
       "idade                       0\n",
       "qtd_passou_de_30_59_dias    0\n",
       "razao_debito                0\n",
       "salario_mensal              0\n",
       "qtd_crdto_aberto            0\n",
       "qtd_passou_90_dias          0\n",
       "qtd_emp_imobiliarios        0\n",
       "qtd_passou_60_89_dias       0\n",
       "qtd_dependentes             0\n",
       "grupo_idade                 0\n",
       "classe_financeira           0\n",
       "dtype: int64"
      ]
     },
     "execution_count": 486,
     "metadata": {},
     "output_type": "execute_result"
    }
   ],
   "source": [
    "df_teste2.isna().sum()"
   ]
  },
  {
   "cell_type": "code",
   "execution_count": 487,
   "id": "98c8a423-ab83-4e5e-a089-cf4bf7798101",
   "metadata": {},
   "outputs": [
    {
     "data": {
      "text/html": [
       "<div>\n",
       "<style scoped>\n",
       "    .dataframe tbody tr th:only-of-type {\n",
       "        vertical-align: middle;\n",
       "    }\n",
       "\n",
       "    .dataframe tbody tr th {\n",
       "        vertical-align: top;\n",
       "    }\n",
       "\n",
       "    .dataframe thead th {\n",
       "        text-align: right;\n",
       "    }\n",
       "</style>\n",
       "<table border=\"1\" class=\"dataframe\">\n",
       "  <thead>\n",
       "    <tr style=\"text-align: right;\">\n",
       "      <th></th>\n",
       "      <th>inadimplente</th>\n",
       "      <th>linhas_inseguras</th>\n",
       "      <th>idade</th>\n",
       "      <th>qtd_passou_de_30_59_dias</th>\n",
       "      <th>razao_debito</th>\n",
       "      <th>salario_mensal</th>\n",
       "      <th>qtd_crdto_aberto</th>\n",
       "      <th>qtd_passou_90_dias</th>\n",
       "      <th>qtd_emp_imobiliarios</th>\n",
       "      <th>qtd_passou_60_89_dias</th>\n",
       "      <th>qtd_dependentes</th>\n",
       "      <th>grupo_idade</th>\n",
       "      <th>classe_financeira</th>\n",
       "    </tr>\n",
       "  </thead>\n",
       "  <tbody>\n",
       "    <tr>\n",
       "      <th>0</th>\n",
       "      <td>0</td>\n",
       "      <td>0.025849</td>\n",
       "      <td>62</td>\n",
       "      <td>0</td>\n",
       "      <td>0.081775</td>\n",
       "      <td>8180.0</td>\n",
       "      <td>3</td>\n",
       "      <td>0</td>\n",
       "      <td>2</td>\n",
       "      <td>0</td>\n",
       "      <td>0.0</td>\n",
       "      <td>3</td>\n",
       "      <td>2</td>\n",
       "    </tr>\n",
       "    <tr>\n",
       "      <th>1</th>\n",
       "      <td>0</td>\n",
       "      <td>0.667083</td>\n",
       "      <td>55</td>\n",
       "      <td>0</td>\n",
       "      <td>0.153112</td>\n",
       "      <td>2200.0</td>\n",
       "      <td>3</td>\n",
       "      <td>0</td>\n",
       "      <td>0</td>\n",
       "      <td>0</td>\n",
       "      <td>0.0</td>\n",
       "      <td>2</td>\n",
       "      <td>1</td>\n",
       "    </tr>\n",
       "    <tr>\n",
       "      <th>2</th>\n",
       "      <td>0</td>\n",
       "      <td>0.007093</td>\n",
       "      <td>44</td>\n",
       "      <td>0</td>\n",
       "      <td>0.148800</td>\n",
       "      <td>7499.0</td>\n",
       "      <td>20</td>\n",
       "      <td>0</td>\n",
       "      <td>1</td>\n",
       "      <td>0</td>\n",
       "      <td>0.0</td>\n",
       "      <td>2</td>\n",
       "      <td>2</td>\n",
       "    </tr>\n",
       "    <tr>\n",
       "      <th>3</th>\n",
       "      <td>0</td>\n",
       "      <td>0.091213</td>\n",
       "      <td>54</td>\n",
       "      <td>0</td>\n",
       "      <td>0.351635</td>\n",
       "      <td>5900.0</td>\n",
       "      <td>15</td>\n",
       "      <td>0</td>\n",
       "      <td>1</td>\n",
       "      <td>1</td>\n",
       "      <td>0.0</td>\n",
       "      <td>2</td>\n",
       "      <td>2</td>\n",
       "    </tr>\n",
       "    <tr>\n",
       "      <th>4</th>\n",
       "      <td>0</td>\n",
       "      <td>0.112680</td>\n",
       "      <td>54</td>\n",
       "      <td>0</td>\n",
       "      <td>0.065959</td>\n",
       "      <td>2167.0</td>\n",
       "      <td>3</td>\n",
       "      <td>0</td>\n",
       "      <td>0</td>\n",
       "      <td>0</td>\n",
       "      <td>0.0</td>\n",
       "      <td>2</td>\n",
       "      <td>1</td>\n",
       "    </tr>\n",
       "  </tbody>\n",
       "</table>\n",
       "</div>"
      ],
      "text/plain": [
       "   inadimplente  linhas_inseguras  idade  qtd_passou_de_30_59_dias  \\\n",
       "0             0          0.025849     62                         0   \n",
       "1             0          0.667083     55                         0   \n",
       "2             0          0.007093     44                         0   \n",
       "3             0          0.091213     54                         0   \n",
       "4             0          0.112680     54                         0   \n",
       "\n",
       "   razao_debito  salario_mensal  qtd_crdto_aberto  qtd_passou_90_dias  \\\n",
       "0      0.081775          8180.0                 3                   0   \n",
       "1      0.153112          2200.0                 3                   0   \n",
       "2      0.148800          7499.0                20                   0   \n",
       "3      0.351635          5900.0                15                   0   \n",
       "4      0.065959          2167.0                 3                   0   \n",
       "\n",
       "   qtd_emp_imobiliarios  qtd_passou_60_89_dias  qtd_dependentes grupo_idade  \\\n",
       "0                     2                      0              0.0           3   \n",
       "1                     0                      0              0.0           2   \n",
       "2                     1                      0              0.0           2   \n",
       "3                     1                      1              0.0           2   \n",
       "4                     0                      0              0.0           2   \n",
       "\n",
       "  classe_financeira  \n",
       "0                 2  \n",
       "1                 1  \n",
       "2                 2  \n",
       "3                 2  \n",
       "4                 1  "
      ]
     },
     "execution_count": 487,
     "metadata": {},
     "output_type": "execute_result"
    }
   ],
   "source": [
    "df_teste2.head()"
   ]
  },
  {
   "cell_type": "code",
   "execution_count": 488,
   "id": "abb16ca1-b6bd-462c-9493-5617656e9a03",
   "metadata": {},
   "outputs": [
    {
     "data": {
      "text/html": [
       "<div>\n",
       "<style scoped>\n",
       "    .dataframe tbody tr th:only-of-type {\n",
       "        vertical-align: middle;\n",
       "    }\n",
       "\n",
       "    .dataframe tbody tr th {\n",
       "        vertical-align: top;\n",
       "    }\n",
       "\n",
       "    .dataframe thead th {\n",
       "        text-align: right;\n",
       "    }\n",
       "</style>\n",
       "<table border=\"1\" class=\"dataframe\">\n",
       "  <thead>\n",
       "    <tr style=\"text-align: right;\">\n",
       "      <th></th>\n",
       "      <th>grupo_idade</th>\n",
       "      <th>0</th>\n",
       "    </tr>\n",
       "  </thead>\n",
       "  <tbody>\n",
       "    <tr>\n",
       "      <th>0</th>\n",
       "      <td>2</td>\n",
       "      <td>69143</td>\n",
       "    </tr>\n",
       "    <tr>\n",
       "      <th>1</th>\n",
       "      <td>3</td>\n",
       "      <td>37727</td>\n",
       "    </tr>\n",
       "    <tr>\n",
       "      <th>2</th>\n",
       "      <td>1</td>\n",
       "      <td>3130</td>\n",
       "    </tr>\n",
       "  </tbody>\n",
       "</table>\n",
       "</div>"
      ],
      "text/plain": [
       "  grupo_idade      0\n",
       "0           2  69143\n",
       "1           3  37727\n",
       "2           1   3130"
      ]
     },
     "execution_count": 488,
     "metadata": {},
     "output_type": "execute_result"
    }
   ],
   "source": [
    "df2[['grupo_idade']].value_counts().reset_index()"
   ]
  },
  {
   "cell_type": "code",
   "execution_count": 489,
   "id": "ca6dfcc2-2953-44d3-b302-fc009a711daa",
   "metadata": {},
   "outputs": [
    {
     "data": {
      "text/html": [
       "<div>\n",
       "<style scoped>\n",
       "    .dataframe tbody tr th:only-of-type {\n",
       "        vertical-align: middle;\n",
       "    }\n",
       "\n",
       "    .dataframe tbody tr th {\n",
       "        vertical-align: top;\n",
       "    }\n",
       "\n",
       "    .dataframe thead th {\n",
       "        text-align: right;\n",
       "    }\n",
       "</style>\n",
       "<table border=\"1\" class=\"dataframe\">\n",
       "  <thead>\n",
       "    <tr style=\"text-align: right;\">\n",
       "      <th></th>\n",
       "      <th>classe_financeira</th>\n",
       "      <th>0</th>\n",
       "    </tr>\n",
       "  </thead>\n",
       "  <tbody>\n",
       "    <tr>\n",
       "      <th>0</th>\n",
       "      <td>2</td>\n",
       "      <td>61940</td>\n",
       "    </tr>\n",
       "    <tr>\n",
       "      <th>1</th>\n",
       "      <td>1</td>\n",
       "      <td>33531</td>\n",
       "    </tr>\n",
       "    <tr>\n",
       "      <th>2</th>\n",
       "      <td>3</td>\n",
       "      <td>14529</td>\n",
       "    </tr>\n",
       "  </tbody>\n",
       "</table>\n",
       "</div>"
      ],
      "text/plain": [
       "  classe_financeira      0\n",
       "0                 2  61940\n",
       "1                 1  33531\n",
       "2                 3  14529"
      ]
     },
     "execution_count": 489,
     "metadata": {},
     "output_type": "execute_result"
    }
   ],
   "source": [
    "df2[['classe_financeira']].value_counts().reset_index()"
   ]
  },
  {
   "cell_type": "markdown",
   "id": "7525dca8-791f-45bc-b0ae-feba47fe29c0",
   "metadata": {},
   "source": [
    "## **3.0. Variable filtering**"
   ]
  },
  {
   "cell_type": "code",
   "execution_count": 490,
   "id": "cecff900-d721-4a50-a8c2-865a549c1ac3",
   "metadata": {},
   "outputs": [],
   "source": [
    "df3 = df2.copy()"
   ]
  },
  {
   "cell_type": "markdown",
   "id": "993eb9b5-3924-442b-bf17-22ee11da2b9e",
   "metadata": {},
   "source": [
    "## **4.0. Exploratory data analysis**"
   ]
  },
  {
   "cell_type": "code",
   "execution_count": 491,
   "id": "9a5f20fc-a2fc-43ff-b199-596389982dec",
   "metadata": {},
   "outputs": [],
   "source": [
    "df4 = df3.copy()"
   ]
  },
  {
   "cell_type": "markdown",
   "id": "1c082011-659d-4954-8c37-a5360111b321",
   "metadata": {},
   "source": [
    "## **5.0. Data preparation**"
   ]
  },
  {
   "cell_type": "code",
   "execution_count": 492,
   "id": "2f52b1cf-b9c5-4cef-a8af-d826c87d0016",
   "metadata": {},
   "outputs": [],
   "source": [
    "df5 = df4.copy()"
   ]
  },
  {
   "cell_type": "markdown",
   "id": "981084cd-4282-444b-9ef0-ddb48c6d6718",
   "metadata": {},
   "source": [
    "## **6.0. Feature selection**"
   ]
  },
  {
   "cell_type": "code",
   "execution_count": 493,
   "id": "16b2be61-2eb6-4c59-bfd1-855ef2d556ce",
   "metadata": {},
   "outputs": [],
   "source": [
    "df6 = df5.copy()"
   ]
  },
  {
   "cell_type": "markdown",
   "id": "af2a213e-42f4-4350-b554-9c7739ad390e",
   "metadata": {},
   "source": [
    "### 6.1. Manual feature selection"
   ]
  },
  {
   "cell_type": "code",
   "execution_count": 494,
   "id": "cb656d89-e9ab-486e-88be-5a8bb7482881",
   "metadata": {},
   "outputs": [],
   "source": [
    "# Training dataset\n",
    "X_train = df6\n",
    "y_train = X_train['inadimplente']\n",
    "\n",
    "\n",
    "# Test dataset\n",
    "X_test = df_teste2\n",
    "y_test = X_test['inadimplente']"
   ]
  },
  {
   "cell_type": "code",
   "execution_count": 495,
   "id": "2e9f266c-3e8c-4383-b151-7482293942cf",
   "metadata": {},
   "outputs": [
    {
     "data": {
      "text/plain": [
       "inadimplente                0\n",
       "linhas_inseguras            0\n",
       "idade                       0\n",
       "qtd_passou_de_30_59_dias    0\n",
       "razao_debito                0\n",
       "salario_mensal              0\n",
       "qtd_crdto_aberto            0\n",
       "qtd_passou_90_dias          0\n",
       "qtd_emp_imobiliarios        0\n",
       "qtd_passou_60_89_dias       0\n",
       "qtd_dependentes             0\n",
       "grupo_idade                 0\n",
       "classe_financeira           0\n",
       "dtype: int64"
      ]
     },
     "execution_count": 495,
     "metadata": {},
     "output_type": "execute_result"
    }
   ],
   "source": [
    "df_teste2.isna().sum()"
   ]
  },
  {
   "cell_type": "code",
   "execution_count": 496,
   "id": "da94c093-a608-444c-a0c4-e85d9404bed1",
   "metadata": {},
   "outputs": [
    {
     "data": {
      "text/plain": [
       "['inadimplente',\n",
       " 'linhas_inseguras',\n",
       " 'idade',\n",
       " 'qtd_passou_de_30_59_dias',\n",
       " 'razao_debito',\n",
       " 'salario_mensal',\n",
       " 'qtd_crdto_aberto',\n",
       " 'qtd_passou_90_dias',\n",
       " 'qtd_emp_imobiliarios',\n",
       " 'qtd_passou_60_89_dias',\n",
       " 'qtd_dependentes',\n",
       " 'grupo_idade',\n",
       " 'classe_financeira']"
      ]
     },
     "execution_count": 496,
     "metadata": {},
     "output_type": "execute_result"
    }
   ],
   "source": [
    "df6.columns.to_list()"
   ]
  },
  {
   "cell_type": "code",
   "execution_count": 497,
   "id": "79a54bc0-90ca-4274-8cca-b142df65f7d0",
   "metadata": {},
   "outputs": [],
   "source": [
    "cols_selected_manual = ['inadimplente',\n",
    "                         'linhas_inseguras',\n",
    "                         'idade',\n",
    "                         'qtd_passou_de_30_59_dias',\n",
    "                         'razao_debito',\n",
    "                         'salario_mensal',\n",
    "                         'qtd_crdto_aberto',\n",
    "                         'qtd_passou_90_dias',\n",
    "                         'qtd_emp_imobiliarios',\n",
    "                         'qtd_passou_60_89_dias',\n",
    "                         'qtd_dependentes',\n",
    "                         'grupo_idade',\n",
    "                         'classe_financeira']"
   ]
  },
  {
   "cell_type": "markdown",
   "id": "293e5897-eb16-4282-a057-dcc54df3de1a",
   "metadata": {},
   "source": [
    "## **7.0. Machinle learning modelling**"
   ]
  },
  {
   "cell_type": "code",
   "execution_count": 498,
   "id": "035b3d88-49db-42c7-a707-96b26161b6d6",
   "metadata": {},
   "outputs": [],
   "source": [
    "df7 = df6.copy()"
   ]
  },
  {
   "cell_type": "code",
   "execution_count": 499,
   "id": "4fe036a6-90f2-4919-a6b6-710fa98ce9ef",
   "metadata": {},
   "outputs": [],
   "source": [
    "# Realizei a seleção da forma acima pois pode existir casos em que a base de treino e teste seja a mesma, então dessa forma fica mais facil eu separar o X_train em uma periodo especifico e o restante eu utilizar para teste\n",
    "x_train = X_train[cols_selected_manual]\n",
    "x_test = X_test[cols_selected_manual]"
   ]
  },
  {
   "cell_type": "code",
   "execution_count": 508,
   "id": "c6f5cb45-bdb6-4e4b-87ec-c628f67aa791",
   "metadata": {},
   "outputs": [],
   "source": [
    "def mean_absolute_percentage_error(y, yhat):\n",
    "    return np.mean(np.abs((y - yhat) / y ))\n",
    "\n",
    "\n",
    "def ml_error (model_name, y, yhat):\n",
    "    mae = mean_absolute_error(y, yhat)\n",
    "    mape = mean_absolute_percentage_error(y, yhat)\n",
    "    rmse = np.sqrt(mean_squared_error(y, yhat))\n",
    "    return pd.DataFrame({'Model Name': model_name,\n",
    "                         'MAE': mae,\n",
    "                         'MAPE': mape,\n",
    "                         'RMSE': rmse}, index=[0])"
   ]
  },
  {
   "cell_type": "markdown",
   "id": "dc547e0a-b4e8-4b54-a941-4647f6958dd4",
   "metadata": {},
   "source": [
    "### 7.1. Average Model"
   ]
  },
  {
   "cell_type": "code",
   "execution_count": 509,
   "id": "b93122a4-51a3-47d5-81c2-85a419c90946",
   "metadata": {},
   "outputs": [
    {
     "ename": "SyntaxError",
     "evalue": "EOL while scanning string literal (4162036898.py, line 6)",
     "output_type": "error",
     "traceback": [
      "\u001b[0;36m  File \u001b[0;32m\"/tmp/ipykernel_47/4162036898.py\"\u001b[0;36m, line \u001b[0;32m6\u001b[0m\n\u001b[0;31m    aux2 = aux1[['sales']].mean().reset_index().rename( columns={'inadimplente': 'predictions_inadimplente} )\u001b[0m\n\u001b[0m                                                                                                             ^\u001b[0m\n\u001b[0;31mSyntaxError\u001b[0m\u001b[0;31m:\u001b[0m EOL while scanning string literal\n"
     ]
    }
   ],
   "source": [
    "aux1 = x_test.copy()\n",
    "aux1['inadimplente'] = y_test.copy()\n",
    "\n",
    "\n",
    "# prediction\n",
    "aux2 = aux1[['sales']].mean().reset_index().rename( columns={'inadimplente': 'predictions_inadimplente} )\n",
    "aux1 = pd.merge( aux1, aux2, how='left', on='store' )\n",
    "yhat_baseline = aux1['predictions']\n",
    "\n",
    "# performance\n",
    "baseline_result = ml_error( 'Average Model', np.expm1( y_test ), np.expm1( yhat_baseline ) )\n",
    "baseline_result"
   ]
  },
  {
   "cell_type": "markdown",
   "id": "b6439cf1-37d6-4249-a03e-a0d299b65403",
   "metadata": {},
   "source": [
    "### 7.2. Linear Regresion Model"
   ]
  },
  {
   "cell_type": "code",
   "execution_count": 510,
   "id": "90e8e6af-86cb-4c94-b5ae-693e35c1270c",
   "metadata": {},
   "outputs": [
    {
     "data": {
      "text/plain": [
       "inadimplente                int64\n",
       "linhas_inseguras            int64\n",
       "idade                       int64\n",
       "qtd_passou_de_30_59_dias    int64\n",
       "razao_debito                int64\n",
       "salario_mensal              int64\n",
       "qtd_crdto_aberto            int64\n",
       "qtd_passou_90_dias          int64\n",
       "qtd_emp_imobiliarios        int64\n",
       "qtd_passou_60_89_dias       int64\n",
       "qtd_dependentes             int64\n",
       "grupo_idade                 int64\n",
       "classe_financeira           int64\n",
       "dtype: object"
      ]
     },
     "execution_count": 510,
     "metadata": {},
     "output_type": "execute_result"
    }
   ],
   "source": [
    "x_train.dtypes"
   ]
  },
  {
   "cell_type": "code",
   "execution_count": null,
   "id": "6b26cf42-4999-462a-ae99-a15c09975b89",
   "metadata": {},
   "outputs": [],
   "source": []
  },
  {
   "cell_type": "code",
   "execution_count": 511,
   "id": "156c236c-3812-4a03-8250-f8e60382749c",
   "metadata": {},
   "outputs": [
    {
     "data": {
      "text/plain": [
       "inadimplente                0\n",
       "linhas_inseguras            0\n",
       "idade                       0\n",
       "qtd_passou_de_30_59_dias    0\n",
       "razao_debito                0\n",
       "salario_mensal              0\n",
       "qtd_crdto_aberto            0\n",
       "qtd_passou_90_dias          0\n",
       "qtd_emp_imobiliarios        0\n",
       "qtd_passou_60_89_dias       0\n",
       "qtd_dependentes             0\n",
       "grupo_idade                 0\n",
       "classe_financeira           0\n",
       "dtype: int64"
      ]
     },
     "execution_count": 511,
     "metadata": {},
     "output_type": "execute_result"
    }
   ],
   "source": [
    "x_train['linhas_inseguras'] = x_train['linhas_inseguras'].astype( int )\n",
    "x_train['razao_debito'] = x_train['razao_debito'].astype( int )\n",
    "x_train['salario_mensal'] = x_train['salario_mensal'].astype( int )\n",
    "x_train['grupo_idade'] = x_train['grupo_idade'].astype( int )\n",
    "x_train['classe_financeira'] = x_train['classe_financeira'].astype( int )\n",
    "x_train.isna().sum()"
   ]
  },
  {
   "cell_type": "code",
   "execution_count": 512,
   "id": "53101f5f-2270-4b61-bf91-a0b7c72e99f8",
   "metadata": {},
   "outputs": [
    {
     "data": {
      "text/plain": [
       "inadimplente                0\n",
       "linhas_inseguras            0\n",
       "idade                       0\n",
       "qtd_passou_de_30_59_dias    0\n",
       "razao_debito                0\n",
       "salario_mensal              0\n",
       "qtd_crdto_aberto            0\n",
       "qtd_passou_90_dias          0\n",
       "qtd_emp_imobiliarios        0\n",
       "qtd_passou_60_89_dias       0\n",
       "qtd_dependentes             0\n",
       "grupo_idade                 0\n",
       "classe_financeira           0\n",
       "dtype: int64"
      ]
     },
     "execution_count": 512,
     "metadata": {},
     "output_type": "execute_result"
    }
   ],
   "source": [
    "x_test.isna().sum()"
   ]
  },
  {
   "cell_type": "code",
   "execution_count": 513,
   "id": "324efd87-b2a8-4dfe-b3d9-6bb167a13b34",
   "metadata": {},
   "outputs": [
    {
     "data": {
      "text/html": [
       "<div>\n",
       "<style scoped>\n",
       "    .dataframe tbody tr th:only-of-type {\n",
       "        vertical-align: middle;\n",
       "    }\n",
       "\n",
       "    .dataframe tbody tr th {\n",
       "        vertical-align: top;\n",
       "    }\n",
       "\n",
       "    .dataframe thead th {\n",
       "        text-align: right;\n",
       "    }\n",
       "</style>\n",
       "<table border=\"1\" class=\"dataframe\">\n",
       "  <thead>\n",
       "    <tr style=\"text-align: right;\">\n",
       "      <th></th>\n",
       "      <th>Model Name</th>\n",
       "      <th>MAE</th>\n",
       "      <th>MAPE</th>\n",
       "      <th>RMSE</th>\n",
       "    </tr>\n",
       "  </thead>\n",
       "  <tbody>\n",
       "    <tr>\n",
       "      <th>0</th>\n",
       "      <td>Linear Regression</td>\n",
       "      <td>3.588262e-16</td>\n",
       "      <td>inf</td>\n",
       "      <td>9.434389e-16</td>\n",
       "    </tr>\n",
       "  </tbody>\n",
       "</table>\n",
       "</div>"
      ],
      "text/plain": [
       "          Model Name           MAE  MAPE          RMSE\n",
       "0  Linear Regression  3.588262e-16   inf  9.434389e-16"
      ]
     },
     "execution_count": 513,
     "metadata": {},
     "output_type": "execute_result"
    }
   ],
   "source": [
    "# model\n",
    "lr = LinearRegression().fit( x_train, y_train )\n",
    "\n",
    "# prediction\n",
    "yhat_lr = lr.predict( x_test )\n",
    "\n",
    "# performance\n",
    "lr_result = ml_error( 'Linear Regression', y_test, yhat_lr )\n",
    "lr_result\n",
    "\n"
   ]
  },
  {
   "cell_type": "markdown",
   "id": "420d03ee-dde5-4be8-adc2-a134d15d5b8a",
   "metadata": {},
   "source": [
    "## 7.3. Random Forest Regressor"
   ]
  },
  {
   "cell_type": "code",
   "execution_count": 514,
   "id": "21ec52ee-1c3d-48f3-833e-a97fa011ddad",
   "metadata": {},
   "outputs": [
    {
     "data": {
      "text/html": [
       "<div>\n",
       "<style scoped>\n",
       "    .dataframe tbody tr th:only-of-type {\n",
       "        vertical-align: middle;\n",
       "    }\n",
       "\n",
       "    .dataframe tbody tr th {\n",
       "        vertical-align: top;\n",
       "    }\n",
       "\n",
       "    .dataframe thead th {\n",
       "        text-align: right;\n",
       "    }\n",
       "</style>\n",
       "<table border=\"1\" class=\"dataframe\">\n",
       "  <thead>\n",
       "    <tr style=\"text-align: right;\">\n",
       "      <th></th>\n",
       "      <th>Model Name</th>\n",
       "      <th>MAE</th>\n",
       "      <th>MAPE</th>\n",
       "      <th>RMSE</th>\n",
       "    </tr>\n",
       "  </thead>\n",
       "  <tbody>\n",
       "    <tr>\n",
       "      <th>0</th>\n",
       "      <td>Random Forest Regressor</td>\n",
       "      <td>0.0</td>\n",
       "      <td>NaN</td>\n",
       "      <td>0.0</td>\n",
       "    </tr>\n",
       "  </tbody>\n",
       "</table>\n",
       "</div>"
      ],
      "text/plain": [
       "                Model Name  MAE  MAPE  RMSE\n",
       "0  Random Forest Regressor  0.0   NaN   0.0"
      ]
     },
     "execution_count": 514,
     "metadata": {},
     "output_type": "execute_result"
    }
   ],
   "source": [
    "# model\n",
    "rf = RandomForestRegressor( n_estimators=100, n_jobs=-1, random_state=42 ).fit( x_train, y_train )\n",
    "\n",
    "# prediction\n",
    "yhat_rf = rf.predict( x_test )\n",
    "\n",
    "# performance\n",
    "rf_result = ml_error( 'Random Forest Regressor', np.expm1( y_test ), np.expm1( yhat_rf ) )\n",
    "rf_result"
   ]
  },
  {
   "cell_type": "markdown",
   "id": "f31cd324-aa5f-4941-aa23-34c93342027a",
   "metadata": {},
   "source": [
    "### 7.4. XGBoost Regressor"
   ]
  },
  {
   "cell_type": "code",
   "execution_count": 515,
   "id": "6841e639-e57c-486b-b873-93486e549d01",
   "metadata": {},
   "outputs": [
    {
     "name": "stdout",
     "output_type": "stream",
     "text": [
      "[02:37:28] WARNING: ../src/learner.cc:576: \n",
      "Parameters: { \"colsample_bytee\" } might not be used.\n",
      "\n",
      "  This could be a false alarm, with some parameters getting used by language bindings but\n",
      "  then being mistakenly passed down to XGBoost core, or some parameter actually being used\n",
      "  but getting flagged wrongly here. Please open an issue if you find any such cases.\n",
      "\n",
      "\n"
     ]
    },
    {
     "ename": "ValueError",
     "evalue": "Found input variables with inconsistent numbers of samples: [40000, 110000]",
     "output_type": "error",
     "traceback": [
      "\u001b[0;31m---------------------------------------------------------------------------\u001b[0m",
      "\u001b[0;31mValueError\u001b[0m                                Traceback (most recent call last)",
      "\u001b[0;32m/tmp/ipykernel_47/967016836.py\u001b[0m in \u001b[0;36m<module>\u001b[0;34m\u001b[0m\n\u001b[1;32m     11\u001b[0m \u001b[0;34m\u001b[0m\u001b[0m\n\u001b[1;32m     12\u001b[0m \u001b[0;31m# performance\u001b[0m\u001b[0;34m\u001b[0m\u001b[0;34m\u001b[0m\u001b[0m\n\u001b[0;32m---> 13\u001b[0;31m \u001b[0mxgb_result\u001b[0m \u001b[0;34m=\u001b[0m \u001b[0mml_error\u001b[0m\u001b[0;34m(\u001b[0m \u001b[0;34m'XGBoost Regressor'\u001b[0m\u001b[0;34m,\u001b[0m \u001b[0mnp\u001b[0m\u001b[0;34m.\u001b[0m\u001b[0mexpm1\u001b[0m\u001b[0;34m(\u001b[0m \u001b[0my_test\u001b[0m \u001b[0;34m)\u001b[0m\u001b[0;34m,\u001b[0m \u001b[0mnp\u001b[0m\u001b[0;34m.\u001b[0m\u001b[0mexpm1\u001b[0m\u001b[0;34m(\u001b[0m \u001b[0myhat_xgb\u001b[0m \u001b[0;34m)\u001b[0m \u001b[0;34m)\u001b[0m\u001b[0;34m\u001b[0m\u001b[0;34m\u001b[0m\u001b[0m\n\u001b[0m\u001b[1;32m     14\u001b[0m \u001b[0mxgb_result\u001b[0m\u001b[0;34m\u001b[0m\u001b[0;34m\u001b[0m\u001b[0m\n\u001b[1;32m     15\u001b[0m \u001b[0;34m\u001b[0m\u001b[0m\n",
      "\u001b[0;32m/tmp/ipykernel_47/1717768595.py\u001b[0m in \u001b[0;36mml_error\u001b[0;34m(model_name, y, yhat)\u001b[0m\n\u001b[1;32m      4\u001b[0m \u001b[0;34m\u001b[0m\u001b[0m\n\u001b[1;32m      5\u001b[0m \u001b[0;32mdef\u001b[0m \u001b[0mml_error\u001b[0m \u001b[0;34m(\u001b[0m\u001b[0mmodel_name\u001b[0m\u001b[0;34m,\u001b[0m \u001b[0my\u001b[0m\u001b[0;34m,\u001b[0m \u001b[0myhat\u001b[0m\u001b[0;34m)\u001b[0m\u001b[0;34m:\u001b[0m\u001b[0;34m\u001b[0m\u001b[0;34m\u001b[0m\u001b[0m\n\u001b[0;32m----> 6\u001b[0;31m     \u001b[0mmae\u001b[0m \u001b[0;34m=\u001b[0m \u001b[0mmean_absolute_error\u001b[0m\u001b[0;34m(\u001b[0m\u001b[0my\u001b[0m\u001b[0;34m,\u001b[0m \u001b[0myhat\u001b[0m\u001b[0;34m)\u001b[0m\u001b[0;34m\u001b[0m\u001b[0;34m\u001b[0m\u001b[0m\n\u001b[0m\u001b[1;32m      7\u001b[0m     \u001b[0mmape\u001b[0m \u001b[0;34m=\u001b[0m \u001b[0mmean_absolute_percentage_error\u001b[0m\u001b[0;34m(\u001b[0m\u001b[0my\u001b[0m\u001b[0;34m,\u001b[0m \u001b[0myhat\u001b[0m\u001b[0;34m)\u001b[0m\u001b[0;34m\u001b[0m\u001b[0;34m\u001b[0m\u001b[0m\n\u001b[1;32m      8\u001b[0m     \u001b[0mrmse\u001b[0m \u001b[0;34m=\u001b[0m \u001b[0mnp\u001b[0m\u001b[0;34m.\u001b[0m\u001b[0msqrt\u001b[0m\u001b[0;34m(\u001b[0m\u001b[0mmean_squared_error\u001b[0m\u001b[0;34m(\u001b[0m\u001b[0my\u001b[0m\u001b[0;34m,\u001b[0m \u001b[0myhat\u001b[0m\u001b[0;34m)\u001b[0m\u001b[0;34m)\u001b[0m\u001b[0;34m\u001b[0m\u001b[0;34m\u001b[0m\u001b[0m\n",
      "\u001b[0;32m~/.conda/envs/default/lib/python3.9/site-packages/sklearn/metrics/_regression.py\u001b[0m in \u001b[0;36mmean_absolute_error\u001b[0;34m(y_true, y_pred, sample_weight, multioutput)\u001b[0m\n\u001b[1;32m    184\u001b[0m     \u001b[0;36m0.85\u001b[0m\u001b[0;34m...\u001b[0m\u001b[0;34m\u001b[0m\u001b[0;34m\u001b[0m\u001b[0m\n\u001b[1;32m    185\u001b[0m     \"\"\"\n\u001b[0;32m--> 186\u001b[0;31m     y_type, y_true, y_pred, multioutput = _check_reg_targets(\n\u001b[0m\u001b[1;32m    187\u001b[0m         \u001b[0my_true\u001b[0m\u001b[0;34m,\u001b[0m \u001b[0my_pred\u001b[0m\u001b[0;34m,\u001b[0m \u001b[0mmultioutput\u001b[0m\u001b[0;34m\u001b[0m\u001b[0;34m\u001b[0m\u001b[0m\n\u001b[1;32m    188\u001b[0m     )\n",
      "\u001b[0;32m~/.conda/envs/default/lib/python3.9/site-packages/sklearn/metrics/_regression.py\u001b[0m in \u001b[0;36m_check_reg_targets\u001b[0;34m(y_true, y_pred, multioutput, dtype)\u001b[0m\n\u001b[1;32m     87\u001b[0m         \u001b[0mthe\u001b[0m \u001b[0mdtype\u001b[0m \u001b[0margument\u001b[0m \u001b[0mpassed\u001b[0m \u001b[0mto\u001b[0m \u001b[0mcheck_array\u001b[0m\u001b[0;34m.\u001b[0m\u001b[0;34m\u001b[0m\u001b[0;34m\u001b[0m\u001b[0m\n\u001b[1;32m     88\u001b[0m     \"\"\"\n\u001b[0;32m---> 89\u001b[0;31m     \u001b[0mcheck_consistent_length\u001b[0m\u001b[0;34m(\u001b[0m\u001b[0my_true\u001b[0m\u001b[0;34m,\u001b[0m \u001b[0my_pred\u001b[0m\u001b[0;34m)\u001b[0m\u001b[0;34m\u001b[0m\u001b[0;34m\u001b[0m\u001b[0m\n\u001b[0m\u001b[1;32m     90\u001b[0m     \u001b[0my_true\u001b[0m \u001b[0;34m=\u001b[0m \u001b[0mcheck_array\u001b[0m\u001b[0;34m(\u001b[0m\u001b[0my_true\u001b[0m\u001b[0;34m,\u001b[0m \u001b[0mensure_2d\u001b[0m\u001b[0;34m=\u001b[0m\u001b[0;32mFalse\u001b[0m\u001b[0;34m,\u001b[0m \u001b[0mdtype\u001b[0m\u001b[0;34m=\u001b[0m\u001b[0mdtype\u001b[0m\u001b[0;34m)\u001b[0m\u001b[0;34m\u001b[0m\u001b[0;34m\u001b[0m\u001b[0m\n\u001b[1;32m     91\u001b[0m     \u001b[0my_pred\u001b[0m \u001b[0;34m=\u001b[0m \u001b[0mcheck_array\u001b[0m\u001b[0;34m(\u001b[0m\u001b[0my_pred\u001b[0m\u001b[0;34m,\u001b[0m \u001b[0mensure_2d\u001b[0m\u001b[0;34m=\u001b[0m\u001b[0;32mFalse\u001b[0m\u001b[0;34m,\u001b[0m \u001b[0mdtype\u001b[0m\u001b[0;34m=\u001b[0m\u001b[0mdtype\u001b[0m\u001b[0;34m)\u001b[0m\u001b[0;34m\u001b[0m\u001b[0;34m\u001b[0m\u001b[0m\n",
      "\u001b[0;32m~/.conda/envs/default/lib/python3.9/site-packages/sklearn/utils/validation.py\u001b[0m in \u001b[0;36mcheck_consistent_length\u001b[0;34m(*arrays)\u001b[0m\n\u001b[1;32m    329\u001b[0m     \u001b[0muniques\u001b[0m \u001b[0;34m=\u001b[0m \u001b[0mnp\u001b[0m\u001b[0;34m.\u001b[0m\u001b[0munique\u001b[0m\u001b[0;34m(\u001b[0m\u001b[0mlengths\u001b[0m\u001b[0;34m)\u001b[0m\u001b[0;34m\u001b[0m\u001b[0;34m\u001b[0m\u001b[0m\n\u001b[1;32m    330\u001b[0m     \u001b[0;32mif\u001b[0m \u001b[0mlen\u001b[0m\u001b[0;34m(\u001b[0m\u001b[0muniques\u001b[0m\u001b[0;34m)\u001b[0m \u001b[0;34m>\u001b[0m \u001b[0;36m1\u001b[0m\u001b[0;34m:\u001b[0m\u001b[0;34m\u001b[0m\u001b[0;34m\u001b[0m\u001b[0m\n\u001b[0;32m--> 331\u001b[0;31m         raise ValueError(\n\u001b[0m\u001b[1;32m    332\u001b[0m             \u001b[0;34m\"Found input variables with inconsistent numbers of samples: %r\"\u001b[0m\u001b[0;34m\u001b[0m\u001b[0;34m\u001b[0m\u001b[0m\n\u001b[1;32m    333\u001b[0m             \u001b[0;34m%\u001b[0m \u001b[0;34m[\u001b[0m\u001b[0mint\u001b[0m\u001b[0;34m(\u001b[0m\u001b[0ml\u001b[0m\u001b[0;34m)\u001b[0m \u001b[0;32mfor\u001b[0m \u001b[0ml\u001b[0m \u001b[0;32min\u001b[0m \u001b[0mlengths\u001b[0m\u001b[0;34m]\u001b[0m\u001b[0;34m\u001b[0m\u001b[0;34m\u001b[0m\u001b[0m\n",
      "\u001b[0;31mValueError\u001b[0m: Found input variables with inconsistent numbers of samples: [40000, 110000]"
     ]
    }
   ],
   "source": [
    "\n",
    "\n",
    "# model\n",
    "model_xgb = xgb.XGBRegressor( objective='reg:squarederror',\n",
    "                              n_estimators=100, \n",
    "                              eta=0.01, \n",
    "                              max_depth=10, \n",
    "                              subsample=0.7,\n",
    "                              colsample_bytee=0.9 ).fit( x_train, y_train )\n",
    "\n",
    "# prediction\n",
    "yhat_xgb = model_xgb.predict( x_train )\n",
    "\n",
    "# performance\n",
    "xgb_result = ml_error( 'XGBoost Regressor', np.expm1( y_test ), np.expm1( yhat_xgb ) )\n",
    "xgb_result\n",
    "\n"
   ]
  },
  {
   "cell_type": "code",
   "execution_count": null,
   "id": "e06df80a-cd45-471c-b085-90f94fce9873",
   "metadata": {},
   "outputs": [],
   "source": []
  }
 ],
 "metadata": {
  "kernelspec": {
   "display_name": "default:Python",
   "language": "python",
   "name": "conda-env-default-py"
  },
  "language_info": {
   "codemirror_mode": {
    "name": "ipython",
    "version": 3
   },
   "file_extension": ".py",
   "mimetype": "text/x-python",
   "name": "python",
   "nbconvert_exporter": "python",
   "pygments_lexer": "ipython3",
   "version": "3.9.7"
  }
 },
 "nbformat": 4,
 "nbformat_minor": 5
}
